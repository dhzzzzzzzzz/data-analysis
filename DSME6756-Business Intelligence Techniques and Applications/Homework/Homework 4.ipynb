{
 "cells": [
  {
   "cell_type": "markdown",
   "metadata": {},
   "source": [
    "# Homework 4"
   ]
  },
  {
   "cell_type": "markdown",
   "metadata": {},
   "source": [
    "First, we import the necessary libraries:"
   ]
  },
  {
   "cell_type": "code",
   "execution_count": 1,
   "metadata": {},
   "outputs": [],
   "source": [
    "import numpy as np\n",
    "import pandas as pd\n",
    "import matplotlib.pyplot as plt\n",
    "import seaborn as sns\n",
    "%matplotlib inline"
   ]
  },
  {
   "cell_type": "markdown",
   "metadata": {},
   "source": [
    "Import the data to dataframe *df*:"
   ]
  },
  {
   "cell_type": "code",
   "execution_count": 2,
   "metadata": {},
   "outputs": [],
   "source": [
    "# must use full path\n",
    "df=pd.read_excel('C:\\\\Users\\\\DU HAIZHOU\\\\BITA\\\\HW4\\\\GermanCredit.xlsx')"
   ]
  },
  {
   "cell_type": "code",
   "execution_count": 3,
   "metadata": {},
   "outputs": [
    {
     "data": {
      "text/html": [
       "<div>\n",
       "<style scoped>\n",
       "    .dataframe tbody tr th:only-of-type {\n",
       "        vertical-align: middle;\n",
       "    }\n",
       "\n",
       "    .dataframe tbody tr th {\n",
       "        vertical-align: top;\n",
       "    }\n",
       "\n",
       "    .dataframe thead th {\n",
       "        text-align: right;\n",
       "    }\n",
       "</style>\n",
       "<table border=\"1\" class=\"dataframe\">\n",
       "  <thead>\n",
       "    <tr style=\"text-align: right;\">\n",
       "      <th></th>\n",
       "      <th>OBS#</th>\n",
       "      <th>CHK_ACCT</th>\n",
       "      <th>DURATION</th>\n",
       "      <th>HISTORY</th>\n",
       "      <th>NEW_CAR</th>\n",
       "      <th>USED_CAR</th>\n",
       "      <th>FURNITURE</th>\n",
       "      <th>RADIO/TV</th>\n",
       "      <th>EDUCATION</th>\n",
       "      <th>RETRAINING</th>\n",
       "      <th>...</th>\n",
       "      <th>AGE</th>\n",
       "      <th>OTHER_INSTALL</th>\n",
       "      <th>RENT</th>\n",
       "      <th>OWN_RES</th>\n",
       "      <th>NUM_CREDITS</th>\n",
       "      <th>JOB</th>\n",
       "      <th>NUM_DEPENDENTS</th>\n",
       "      <th>TELEPHONE</th>\n",
       "      <th>FOREIGN</th>\n",
       "      <th>RESPONSE</th>\n",
       "    </tr>\n",
       "  </thead>\n",
       "  <tbody>\n",
       "    <tr>\n",
       "      <th>0</th>\n",
       "      <td>1</td>\n",
       "      <td>0</td>\n",
       "      <td>6</td>\n",
       "      <td>4</td>\n",
       "      <td>0</td>\n",
       "      <td>0</td>\n",
       "      <td>0</td>\n",
       "      <td>1</td>\n",
       "      <td>0</td>\n",
       "      <td>0</td>\n",
       "      <td>...</td>\n",
       "      <td>67</td>\n",
       "      <td>0</td>\n",
       "      <td>0</td>\n",
       "      <td>1</td>\n",
       "      <td>2</td>\n",
       "      <td>2</td>\n",
       "      <td>1</td>\n",
       "      <td>1</td>\n",
       "      <td>0</td>\n",
       "      <td>1</td>\n",
       "    </tr>\n",
       "    <tr>\n",
       "      <th>1</th>\n",
       "      <td>2</td>\n",
       "      <td>1</td>\n",
       "      <td>48</td>\n",
       "      <td>2</td>\n",
       "      <td>0</td>\n",
       "      <td>0</td>\n",
       "      <td>0</td>\n",
       "      <td>1</td>\n",
       "      <td>0</td>\n",
       "      <td>0</td>\n",
       "      <td>...</td>\n",
       "      <td>22</td>\n",
       "      <td>0</td>\n",
       "      <td>0</td>\n",
       "      <td>1</td>\n",
       "      <td>1</td>\n",
       "      <td>2</td>\n",
       "      <td>1</td>\n",
       "      <td>0</td>\n",
       "      <td>0</td>\n",
       "      <td>0</td>\n",
       "    </tr>\n",
       "    <tr>\n",
       "      <th>2</th>\n",
       "      <td>3</td>\n",
       "      <td>3</td>\n",
       "      <td>12</td>\n",
       "      <td>4</td>\n",
       "      <td>0</td>\n",
       "      <td>0</td>\n",
       "      <td>0</td>\n",
       "      <td>0</td>\n",
       "      <td>1</td>\n",
       "      <td>0</td>\n",
       "      <td>...</td>\n",
       "      <td>49</td>\n",
       "      <td>0</td>\n",
       "      <td>0</td>\n",
       "      <td>1</td>\n",
       "      <td>1</td>\n",
       "      <td>1</td>\n",
       "      <td>2</td>\n",
       "      <td>0</td>\n",
       "      <td>0</td>\n",
       "      <td>1</td>\n",
       "    </tr>\n",
       "    <tr>\n",
       "      <th>3</th>\n",
       "      <td>4</td>\n",
       "      <td>0</td>\n",
       "      <td>42</td>\n",
       "      <td>2</td>\n",
       "      <td>0</td>\n",
       "      <td>0</td>\n",
       "      <td>1</td>\n",
       "      <td>0</td>\n",
       "      <td>0</td>\n",
       "      <td>0</td>\n",
       "      <td>...</td>\n",
       "      <td>45</td>\n",
       "      <td>0</td>\n",
       "      <td>0</td>\n",
       "      <td>0</td>\n",
       "      <td>1</td>\n",
       "      <td>2</td>\n",
       "      <td>2</td>\n",
       "      <td>0</td>\n",
       "      <td>0</td>\n",
       "      <td>1</td>\n",
       "    </tr>\n",
       "    <tr>\n",
       "      <th>4</th>\n",
       "      <td>5</td>\n",
       "      <td>0</td>\n",
       "      <td>24</td>\n",
       "      <td>3</td>\n",
       "      <td>1</td>\n",
       "      <td>0</td>\n",
       "      <td>0</td>\n",
       "      <td>0</td>\n",
       "      <td>0</td>\n",
       "      <td>0</td>\n",
       "      <td>...</td>\n",
       "      <td>53</td>\n",
       "      <td>0</td>\n",
       "      <td>0</td>\n",
       "      <td>0</td>\n",
       "      <td>2</td>\n",
       "      <td>2</td>\n",
       "      <td>2</td>\n",
       "      <td>0</td>\n",
       "      <td>0</td>\n",
       "      <td>0</td>\n",
       "    </tr>\n",
       "  </tbody>\n",
       "</table>\n",
       "<p>5 rows × 32 columns</p>\n",
       "</div>"
      ],
      "text/plain": [
       "   OBS#  CHK_ACCT  DURATION  HISTORY  NEW_CAR  USED_CAR  FURNITURE  RADIO/TV  \\\n",
       "0     1         0         6        4        0         0          0         1   \n",
       "1     2         1        48        2        0         0          0         1   \n",
       "2     3         3        12        4        0         0          0         0   \n",
       "3     4         0        42        2        0         0          1         0   \n",
       "4     5         0        24        3        1         0          0         0   \n",
       "\n",
       "   EDUCATION  RETRAINING  ...  AGE  OTHER_INSTALL  RENT  OWN_RES  NUM_CREDITS  \\\n",
       "0          0           0  ...   67              0     0        1            2   \n",
       "1          0           0  ...   22              0     0        1            1   \n",
       "2          1           0  ...   49              0     0        1            1   \n",
       "3          0           0  ...   45              0     0        0            1   \n",
       "4          0           0  ...   53              0     0        0            2   \n",
       "\n",
       "   JOB  NUM_DEPENDENTS  TELEPHONE  FOREIGN  RESPONSE  \n",
       "0    2               1          1        0         1  \n",
       "1    2               1          0        0         0  \n",
       "2    1               2          0        0         1  \n",
       "3    2               2          0        0         1  \n",
       "4    2               2          0        0         0  \n",
       "\n",
       "[5 rows x 32 columns]"
      ]
     },
     "execution_count": 3,
     "metadata": {},
     "output_type": "execute_result"
    }
   ],
   "source": [
    "df.head()"
   ]
  },
  {
   "cell_type": "code",
   "execution_count": 4,
   "metadata": {},
   "outputs": [
    {
     "name": "stdout",
     "output_type": "stream",
     "text": [
      "<class 'pandas.core.frame.DataFrame'>\n",
      "RangeIndex: 1000 entries, 0 to 999\n",
      "Data columns (total 32 columns):\n",
      "OBS#                1000 non-null int64\n",
      "CHK_ACCT            1000 non-null int64\n",
      "DURATION            1000 non-null int64\n",
      "HISTORY             1000 non-null int64\n",
      "NEW_CAR             1000 non-null int64\n",
      "USED_CAR            1000 non-null int64\n",
      "FURNITURE           1000 non-null int64\n",
      "RADIO/TV            1000 non-null int64\n",
      "EDUCATION           1000 non-null int64\n",
      "RETRAINING          1000 non-null int64\n",
      "AMOUNT              1000 non-null int64\n",
      "SAV_ACCT            1000 non-null int64\n",
      "EMPLOYMENT          1000 non-null int64\n",
      "INSTALL_RATE        1000 non-null int64\n",
      "MALE_DIV            1000 non-null int64\n",
      "MALE_SINGLE         1000 non-null int64\n",
      "MALE_MAR_or_WID     1000 non-null int64\n",
      "CO-APPLICANT        1000 non-null int64\n",
      "GUARANTOR           1000 non-null int64\n",
      "PRESENT_RESIDENT    1000 non-null int64\n",
      "REAL_ESTATE         1000 non-null int64\n",
      "PROP_UNKN_NONE      1000 non-null int64\n",
      "AGE                 1000 non-null int64\n",
      "OTHER_INSTALL       1000 non-null int64\n",
      "RENT                1000 non-null int64\n",
      "OWN_RES             1000 non-null int64\n",
      "NUM_CREDITS         1000 non-null int64\n",
      "JOB                 1000 non-null int64\n",
      "NUM_DEPENDENTS      1000 non-null int64\n",
      "TELEPHONE           1000 non-null int64\n",
      "FOREIGN             1000 non-null int64\n",
      "RESPONSE            1000 non-null int64\n",
      "dtypes: int64(32)\n",
      "memory usage: 250.1 KB\n"
     ]
    }
   ],
   "source": [
    "df.info()"
   ]
  },
  {
   "cell_type": "code",
   "execution_count": 5,
   "metadata": {},
   "outputs": [
    {
     "data": {
      "text/html": [
       "<div>\n",
       "<style scoped>\n",
       "    .dataframe tbody tr th:only-of-type {\n",
       "        vertical-align: middle;\n",
       "    }\n",
       "\n",
       "    .dataframe tbody tr th {\n",
       "        vertical-align: top;\n",
       "    }\n",
       "\n",
       "    .dataframe thead th {\n",
       "        text-align: right;\n",
       "    }\n",
       "</style>\n",
       "<table border=\"1\" class=\"dataframe\">\n",
       "  <thead>\n",
       "    <tr style=\"text-align: right;\">\n",
       "      <th></th>\n",
       "      <th>CHK_ACCT</th>\n",
       "      <th>DURATION</th>\n",
       "      <th>HISTORY</th>\n",
       "      <th>NEW_CAR</th>\n",
       "      <th>USED_CAR</th>\n",
       "      <th>FURNITURE</th>\n",
       "      <th>RADIO/TV</th>\n",
       "      <th>EDUCATION</th>\n",
       "      <th>RETRAINING</th>\n",
       "      <th>AMOUNT</th>\n",
       "      <th>...</th>\n",
       "      <th>AGE</th>\n",
       "      <th>OTHER_INSTALL</th>\n",
       "      <th>RENT</th>\n",
       "      <th>OWN_RES</th>\n",
       "      <th>NUM_CREDITS</th>\n",
       "      <th>JOB</th>\n",
       "      <th>NUM_DEPENDENTS</th>\n",
       "      <th>TELEPHONE</th>\n",
       "      <th>FOREIGN</th>\n",
       "      <th>RESPONSE</th>\n",
       "    </tr>\n",
       "  </thead>\n",
       "  <tbody>\n",
       "    <tr>\n",
       "      <th>count</th>\n",
       "      <td>1000.000000</td>\n",
       "      <td>1000.000000</td>\n",
       "      <td>1000.00000</td>\n",
       "      <td>1000.000000</td>\n",
       "      <td>1000.000000</td>\n",
       "      <td>1000.000000</td>\n",
       "      <td>1000.000000</td>\n",
       "      <td>1000.000000</td>\n",
       "      <td>1000.000000</td>\n",
       "      <td>1000.000000</td>\n",
       "      <td>...</td>\n",
       "      <td>1000.000000</td>\n",
       "      <td>1000.000000</td>\n",
       "      <td>1000.000000</td>\n",
       "      <td>1000.000000</td>\n",
       "      <td>1000.000000</td>\n",
       "      <td>1000.000000</td>\n",
       "      <td>1000.000000</td>\n",
       "      <td>1000.000000</td>\n",
       "      <td>1000.000000</td>\n",
       "      <td>1000.000000</td>\n",
       "    </tr>\n",
       "    <tr>\n",
       "      <th>mean</th>\n",
       "      <td>1.577000</td>\n",
       "      <td>20.903000</td>\n",
       "      <td>2.54500</td>\n",
       "      <td>0.234000</td>\n",
       "      <td>0.103000</td>\n",
       "      <td>0.181000</td>\n",
       "      <td>0.280000</td>\n",
       "      <td>0.050000</td>\n",
       "      <td>0.097000</td>\n",
       "      <td>3271.258000</td>\n",
       "      <td>...</td>\n",
       "      <td>35.546000</td>\n",
       "      <td>0.186000</td>\n",
       "      <td>0.179000</td>\n",
       "      <td>0.713000</td>\n",
       "      <td>1.407000</td>\n",
       "      <td>1.904000</td>\n",
       "      <td>1.155000</td>\n",
       "      <td>0.404000</td>\n",
       "      <td>0.037000</td>\n",
       "      <td>0.700000</td>\n",
       "    </tr>\n",
       "    <tr>\n",
       "      <th>std</th>\n",
       "      <td>1.257638</td>\n",
       "      <td>12.058814</td>\n",
       "      <td>1.08312</td>\n",
       "      <td>0.423584</td>\n",
       "      <td>0.304111</td>\n",
       "      <td>0.385211</td>\n",
       "      <td>0.449224</td>\n",
       "      <td>0.218054</td>\n",
       "      <td>0.296106</td>\n",
       "      <td>2822.736876</td>\n",
       "      <td>...</td>\n",
       "      <td>11.375469</td>\n",
       "      <td>0.389301</td>\n",
       "      <td>0.383544</td>\n",
       "      <td>0.452588</td>\n",
       "      <td>0.577654</td>\n",
       "      <td>0.653614</td>\n",
       "      <td>0.362086</td>\n",
       "      <td>0.490943</td>\n",
       "      <td>0.188856</td>\n",
       "      <td>0.458487</td>\n",
       "    </tr>\n",
       "    <tr>\n",
       "      <th>min</th>\n",
       "      <td>0.000000</td>\n",
       "      <td>4.000000</td>\n",
       "      <td>0.00000</td>\n",
       "      <td>0.000000</td>\n",
       "      <td>0.000000</td>\n",
       "      <td>0.000000</td>\n",
       "      <td>0.000000</td>\n",
       "      <td>0.000000</td>\n",
       "      <td>0.000000</td>\n",
       "      <td>250.000000</td>\n",
       "      <td>...</td>\n",
       "      <td>19.000000</td>\n",
       "      <td>0.000000</td>\n",
       "      <td>0.000000</td>\n",
       "      <td>0.000000</td>\n",
       "      <td>1.000000</td>\n",
       "      <td>0.000000</td>\n",
       "      <td>1.000000</td>\n",
       "      <td>0.000000</td>\n",
       "      <td>0.000000</td>\n",
       "      <td>0.000000</td>\n",
       "    </tr>\n",
       "    <tr>\n",
       "      <th>25%</th>\n",
       "      <td>0.000000</td>\n",
       "      <td>12.000000</td>\n",
       "      <td>2.00000</td>\n",
       "      <td>0.000000</td>\n",
       "      <td>0.000000</td>\n",
       "      <td>0.000000</td>\n",
       "      <td>0.000000</td>\n",
       "      <td>0.000000</td>\n",
       "      <td>0.000000</td>\n",
       "      <td>1365.500000</td>\n",
       "      <td>...</td>\n",
       "      <td>27.000000</td>\n",
       "      <td>0.000000</td>\n",
       "      <td>0.000000</td>\n",
       "      <td>0.000000</td>\n",
       "      <td>1.000000</td>\n",
       "      <td>2.000000</td>\n",
       "      <td>1.000000</td>\n",
       "      <td>0.000000</td>\n",
       "      <td>0.000000</td>\n",
       "      <td>0.000000</td>\n",
       "    </tr>\n",
       "    <tr>\n",
       "      <th>50%</th>\n",
       "      <td>1.000000</td>\n",
       "      <td>18.000000</td>\n",
       "      <td>2.00000</td>\n",
       "      <td>0.000000</td>\n",
       "      <td>0.000000</td>\n",
       "      <td>0.000000</td>\n",
       "      <td>0.000000</td>\n",
       "      <td>0.000000</td>\n",
       "      <td>0.000000</td>\n",
       "      <td>2319.500000</td>\n",
       "      <td>...</td>\n",
       "      <td>33.000000</td>\n",
       "      <td>0.000000</td>\n",
       "      <td>0.000000</td>\n",
       "      <td>1.000000</td>\n",
       "      <td>1.000000</td>\n",
       "      <td>2.000000</td>\n",
       "      <td>1.000000</td>\n",
       "      <td>0.000000</td>\n",
       "      <td>0.000000</td>\n",
       "      <td>1.000000</td>\n",
       "    </tr>\n",
       "    <tr>\n",
       "      <th>75%</th>\n",
       "      <td>3.000000</td>\n",
       "      <td>24.000000</td>\n",
       "      <td>4.00000</td>\n",
       "      <td>0.000000</td>\n",
       "      <td>0.000000</td>\n",
       "      <td>0.000000</td>\n",
       "      <td>1.000000</td>\n",
       "      <td>0.000000</td>\n",
       "      <td>0.000000</td>\n",
       "      <td>3972.250000</td>\n",
       "      <td>...</td>\n",
       "      <td>42.000000</td>\n",
       "      <td>0.000000</td>\n",
       "      <td>0.000000</td>\n",
       "      <td>1.000000</td>\n",
       "      <td>2.000000</td>\n",
       "      <td>2.000000</td>\n",
       "      <td>1.000000</td>\n",
       "      <td>1.000000</td>\n",
       "      <td>0.000000</td>\n",
       "      <td>1.000000</td>\n",
       "    </tr>\n",
       "    <tr>\n",
       "      <th>max</th>\n",
       "      <td>3.000000</td>\n",
       "      <td>72.000000</td>\n",
       "      <td>4.00000</td>\n",
       "      <td>1.000000</td>\n",
       "      <td>1.000000</td>\n",
       "      <td>1.000000</td>\n",
       "      <td>1.000000</td>\n",
       "      <td>1.000000</td>\n",
       "      <td>1.000000</td>\n",
       "      <td>18424.000000</td>\n",
       "      <td>...</td>\n",
       "      <td>75.000000</td>\n",
       "      <td>1.000000</td>\n",
       "      <td>1.000000</td>\n",
       "      <td>1.000000</td>\n",
       "      <td>4.000000</td>\n",
       "      <td>3.000000</td>\n",
       "      <td>2.000000</td>\n",
       "      <td>1.000000</td>\n",
       "      <td>1.000000</td>\n",
       "      <td>1.000000</td>\n",
       "    </tr>\n",
       "  </tbody>\n",
       "</table>\n",
       "<p>8 rows × 31 columns</p>\n",
       "</div>"
      ],
      "text/plain": [
       "          CHK_ACCT     DURATION     HISTORY      NEW_CAR     USED_CAR  \\\n",
       "count  1000.000000  1000.000000  1000.00000  1000.000000  1000.000000   \n",
       "mean      1.577000    20.903000     2.54500     0.234000     0.103000   \n",
       "std       1.257638    12.058814     1.08312     0.423584     0.304111   \n",
       "min       0.000000     4.000000     0.00000     0.000000     0.000000   \n",
       "25%       0.000000    12.000000     2.00000     0.000000     0.000000   \n",
       "50%       1.000000    18.000000     2.00000     0.000000     0.000000   \n",
       "75%       3.000000    24.000000     4.00000     0.000000     0.000000   \n",
       "max       3.000000    72.000000     4.00000     1.000000     1.000000   \n",
       "\n",
       "         FURNITURE     RADIO/TV    EDUCATION   RETRAINING        AMOUNT  ...  \\\n",
       "count  1000.000000  1000.000000  1000.000000  1000.000000   1000.000000  ...   \n",
       "mean      0.181000     0.280000     0.050000     0.097000   3271.258000  ...   \n",
       "std       0.385211     0.449224     0.218054     0.296106   2822.736876  ...   \n",
       "min       0.000000     0.000000     0.000000     0.000000    250.000000  ...   \n",
       "25%       0.000000     0.000000     0.000000     0.000000   1365.500000  ...   \n",
       "50%       0.000000     0.000000     0.000000     0.000000   2319.500000  ...   \n",
       "75%       0.000000     1.000000     0.000000     0.000000   3972.250000  ...   \n",
       "max       1.000000     1.000000     1.000000     1.000000  18424.000000  ...   \n",
       "\n",
       "               AGE  OTHER_INSTALL         RENT      OWN_RES  NUM_CREDITS  \\\n",
       "count  1000.000000    1000.000000  1000.000000  1000.000000  1000.000000   \n",
       "mean     35.546000       0.186000     0.179000     0.713000     1.407000   \n",
       "std      11.375469       0.389301     0.383544     0.452588     0.577654   \n",
       "min      19.000000       0.000000     0.000000     0.000000     1.000000   \n",
       "25%      27.000000       0.000000     0.000000     0.000000     1.000000   \n",
       "50%      33.000000       0.000000     0.000000     1.000000     1.000000   \n",
       "75%      42.000000       0.000000     0.000000     1.000000     2.000000   \n",
       "max      75.000000       1.000000     1.000000     1.000000     4.000000   \n",
       "\n",
       "               JOB  NUM_DEPENDENTS    TELEPHONE      FOREIGN     RESPONSE  \n",
       "count  1000.000000     1000.000000  1000.000000  1000.000000  1000.000000  \n",
       "mean      1.904000        1.155000     0.404000     0.037000     0.700000  \n",
       "std       0.653614        0.362086     0.490943     0.188856     0.458487  \n",
       "min       0.000000        1.000000     0.000000     0.000000     0.000000  \n",
       "25%       2.000000        1.000000     0.000000     0.000000     0.000000  \n",
       "50%       2.000000        1.000000     0.000000     0.000000     1.000000  \n",
       "75%       2.000000        1.000000     1.000000     0.000000     1.000000  \n",
       "max       3.000000        2.000000     1.000000     1.000000     1.000000  \n",
       "\n",
       "[8 rows x 31 columns]"
      ]
     },
     "execution_count": 5,
     "metadata": {},
     "output_type": "execute_result"
    }
   ],
   "source": [
    "df.drop('OBS#',axis=1).describe()"
   ]
  },
  {
   "cell_type": "markdown",
   "metadata": {},
   "source": [
    "## Question 1"
   ]
  },
  {
   "cell_type": "markdown",
   "metadata": {},
   "source": [
    "High risk leads to bad credit ratings. From the description of the data, the roles of predict variables in the decision are:"
   ]
  },
  {
   "cell_type": "markdown",
   "metadata": {},
   "source": [
    "* CHK_ACCT: The status of the applicant's check account. One has a checking account with more DM should have less risk, but if one has no checking account, the risk may be high.\n",
    "* DURATION: The duration of the applicant's credit. The longer duration of credit, the less risk.\n",
    "* NEW_CAR/USED_CAR/FURNITURE/RADIO/TV/EDUCATION/RETRAINING: The purpose of the credit. It seems that different purpose may have different level of risk.\n",
    "* AMOUNT: Amount of the credit. The smaller the value is, the less risk.\n",
    "* SAV_ACCT: Average balance in savings account. One has more balance in savings account should have less risk, and if one don't have savings account or the status is unknown, the risk is high.\n",
    "* EMPLOYMENT: The present employment period. The longer the period, the less risk.\n",
    "* INSTALL_RATE: Installment rate as % of disposable income. The lower the rate, the less risk.\n",
    "* MALE_DIV: Applicant is male and divorced. If this happen, there will be more risk.\n",
    "* MALE_SINGLE: Applicant is male and single. If this happen, there will be more risk.\n",
    "* MALE_MAR_WID: Applicant is male and married or a widower. If this happen, there will be less risk. \n",
    "* CO-APPLICANT: Application has a co-applicant. With a co-applicant, there will be less risk.\n",
    "* GUARANTOR: Applicant has a guarantor. With a guarantor, there will be less risk.\n",
    "* PRESENT_RESIDENT: Years of present resident of applicant. The more the years, the less risk.\n",
    "* REAL_ESTATE: Applicant owns real estate. If this happen, there will be less risk.\n",
    "* PROP_UNKN_NON: Applicant owns no property (or unknown). If this happen, there will be more risk.\n",
    "* AGE: Age of applicant in years. It seems when an applicant is too young or too old, there will be more risk.\n",
    "* OTHER_INSTALL: Applicant has other installment plan credit. If this happen, there will be less risk.\n",
    "* RENT: Applicant rents. If this happen, there will be more risk.\n",
    "* OWN_RES: Applicant owns residence. If this happen, there will be less risk.\n",
    "* NUM_CREDITS: Number of existing credits at this bank. The more the credits, the less risk.\n",
    "* JOB: Nature of job of applicant. The higher level of the job, the less risk.\n",
    "* NUM_DEPENDENTS: Number of people for whom liable to provide maintenance. The less the number, the less risk.\n",
    "* TELEPHONE: Applicant has phone in his or her name. If this happen, there will be less risk.\n",
    "* FOREIGN: The applicant is a foreign worker. If this happen, there will be more risk."
   ]
  },
  {
   "cell_type": "markdown",
   "metadata": {},
   "source": [
    "We can count the corralation coefficient of the predictor variables and the response of credit rating:"
   ]
  },
  {
   "cell_type": "code",
   "execution_count": 6,
   "metadata": {},
   "outputs": [
    {
     "data": {
      "text/plain": [
       "RESPONSE            1.000000\n",
       "CHK_ACCT            0.350847\n",
       "HISTORY             0.228785\n",
       "SAV_ACCT            0.178943\n",
       "OWN_RES             0.134589\n",
       "REAL_ESTATE         0.119300\n",
       "EMPLOYMENT          0.116002\n",
       "RADIO/TV            0.106922\n",
       "USED_CAR            0.099791\n",
       "AGE                 0.091127\n",
       "FOREIGN             0.082079\n",
       "MALE_SINGLE         0.080677\n",
       "GUARANTOR           0.055039\n",
       "NUM_CREDITS         0.045732\n",
       "TELEPHONE           0.036466\n",
       "MALE_MAR_or_WID     0.019630\n",
       "NUM_DEPENDENTS      0.003015\n",
       "PRESENT_RESIDENT   -0.002967\n",
       "FURNITURE          -0.020971\n",
       "JOB                -0.032735\n",
       "RETRAINING         -0.036129\n",
       "MALE_DIV           -0.050063\n",
       "CO-APPLICANT       -0.062728\n",
       "EDUCATION          -0.070088\n",
       "INSTALL_RATE       -0.072404\n",
       "RENT               -0.092785\n",
       "NEW_CAR            -0.096900\n",
       "OTHER_INSTALL      -0.113285\n",
       "PROP_UNKN_NONE     -0.125750\n",
       "AMOUNT             -0.154739\n",
       "DURATION           -0.214927\n",
       "Name: RESPONSE, dtype: float64"
      ]
     },
     "execution_count": 6,
     "metadata": {},
     "output_type": "execute_result"
    }
   ],
   "source": [
    "df.drop('OBS#',axis=1).corr()['RESPONSE'].sort_values(ascending=False)"
   ]
  },
  {
   "cell_type": "markdown",
   "metadata": {},
   "source": [
    "We can see that the corralation coefficient of some variables are to the different direction as we expect, such as *DURATION* and *PROP_UNKN_NONE*, and most of the variables doesn't have strong corralation with the credit ratings, since the credit rating is not only affected by one or several of the variables. So, we need to build a model by using these variables to predict the credit ratings."
   ]
  },
  {
   "cell_type": "markdown",
   "metadata": {},
   "source": [
    "## Question 2"
   ]
  },
  {
   "cell_type": "markdown",
   "metadata": {},
   "source": [
    "**Build a simple Logistic Regression model:**"
   ]
  },
  {
   "cell_type": "markdown",
   "metadata": {},
   "source": [
    "Import the necessary packages:"
   ]
  },
  {
   "cell_type": "code",
   "execution_count": 7,
   "metadata": {},
   "outputs": [],
   "source": [
    "from sklearn.linear_model import LogisticRegression\n",
    "from sklearn.metrics import classification_report, confusion_matrix, roc_curve, roc_auc_score\n",
    "from sklearn.model_selection import train_test_split, cross_val_score\n",
    "# from sklearn.pipeline import Pipeline"
   ]
  },
  {
   "cell_type": "markdown",
   "metadata": {},
   "source": [
    "Define X and y:"
   ]
  },
  {
   "cell_type": "code",
   "execution_count": 8,
   "metadata": {},
   "outputs": [],
   "source": [
    "X=df.drop(['OBS#','RESPONSE'],axis=1)\n",
    "y=df[['RESPONSE']]"
   ]
  },
  {
   "cell_type": "markdown",
   "metadata": {},
   "source": [
    "Divide the data into training set (60%) and testing set (40%):"
   ]
  },
  {
   "cell_type": "code",
   "execution_count": 9,
   "metadata": {},
   "outputs": [],
   "source": [
    "X_train,X_test,y_train,y_test=train_test_split(X,y,test_size=0.4,random_state=42)"
   ]
  },
  {
   "cell_type": "markdown",
   "metadata": {},
   "source": [
    "Build the logistic regression model, and fit the model using training data set:"
   ]
  },
  {
   "cell_type": "code",
   "execution_count": 10,
   "metadata": {},
   "outputs": [
    {
     "name": "stderr",
     "output_type": "stream",
     "text": [
      "C:\\datascience\\anaconda\\lib\\site-packages\\sklearn\\utils\\validation.py:761: DataConversionWarning: A column-vector y was passed when a 1d array was expected. Please change the shape of y to (n_samples, ), for example using ravel().\n",
      "  y = column_or_1d(y, warn=True)\n"
     ]
    },
    {
     "data": {
      "text/plain": [
       "LogisticRegression(C=1.0, class_weight=None, dual=False, fit_intercept=True,\n",
       "          intercept_scaling=1, max_iter=100, multi_class='warn',\n",
       "          n_jobs=None, penalty='l2', random_state=None, solver='liblinear',\n",
       "          tol=0.0001, verbose=0, warm_start=False)"
      ]
     },
     "execution_count": 10,
     "metadata": {},
     "output_type": "execute_result"
    }
   ],
   "source": [
    "logreg=LogisticRegression(solver='liblinear')\n",
    "logreg.fit(X_train,y_train)"
   ]
  },
  {
   "cell_type": "markdown",
   "metadata": {},
   "source": [
    "Use the testing data set to predict y, and save the result in *y_pred*:"
   ]
  },
  {
   "cell_type": "code",
   "execution_count": 11,
   "metadata": {},
   "outputs": [],
   "source": [
    "y_pred=logreg.predict(X_test)"
   ]
  },
  {
   "cell_type": "markdown",
   "metadata": {},
   "source": [
    "Print the confusion matrix and classification report of the real y (y_test) and predicted y (y_pred):"
   ]
  },
  {
   "cell_type": "code",
   "execution_count": 12,
   "metadata": {},
   "outputs": [
    {
     "name": "stdout",
     "output_type": "stream",
     "text": [
      "[[ 52  66]\n",
      " [ 24 258]]\n"
     ]
    }
   ],
   "source": [
    "print(confusion_matrix(y_test,y_pred))"
   ]
  },
  {
   "cell_type": "code",
   "execution_count": 13,
   "metadata": {},
   "outputs": [
    {
     "name": "stdout",
     "output_type": "stream",
     "text": [
      "              precision    recall  f1-score   support\n",
      "\n",
      "           0       0.68      0.44      0.54       118\n",
      "           1       0.80      0.91      0.85       282\n",
      "\n",
      "   micro avg       0.78      0.78      0.78       400\n",
      "   macro avg       0.74      0.68      0.69       400\n",
      "weighted avg       0.76      0.78      0.76       400\n",
      "\n"
     ]
    }
   ],
   "source": [
    "print(classification_report(y_test,y_pred))"
   ]
  },
  {
   "cell_type": "markdown",
   "metadata": {},
   "source": [
    "In this case, from the opportunity cost matrix and the the payoff matrix:\n",
    "\n",
    "* If we predict good as good (TP), we will gain \\$100 for each.\n",
    "* If we predict bad as good (FN), we will cost \\$500 for each.\n",
    "* If we predict good as bad (FP), we will have a oppotunity cost of $100 for each.\n",
    "* If we predict bad as bad (TN), we will have no cost and no gain.\n",
    "\n",
    "So, we should focus more on TP, FN and FP, and we can use the precision and recall of class 1 (good).\n",
    "\n",
    "Precision is more important than recall, since the cost of each FN is 5 times the gain of each TP.\n",
    "\n",
    "The precision of class 1 is 0.8, and the recall of class 1 is 0.91. The recall is greater than the precision, so this model may be not good enough."
   ]
  },
  {
   "cell_type": "markdown",
   "metadata": {},
   "source": [
    "Use *roc_curve* function to draw ROC curve:"
   ]
  },
  {
   "cell_type": "code",
   "execution_count": 14,
   "metadata": {},
   "outputs": [],
   "source": [
    "tpr,fpr,threshold=roc_curve(y_test,logreg.predict_proba(X_test)[:,1])"
   ]
  },
  {
   "cell_type": "code",
   "execution_count": 15,
   "metadata": {},
   "outputs": [
    {
     "data": {
      "text/plain": [
       "Text(0.5, 1.0, 'ROC Curve')"
      ]
     },
     "execution_count": 15,
     "metadata": {},
     "output_type": "execute_result"
    },
    {
     "data": {
      "image/png": "[encoded data removed]",
      "text/plain": [
       "<Figure size 432x288 with 1 Axes>"
      ]
     },
     "metadata": {
      "needs_background": "light"
     },
     "output_type": "display_data"
    }
   ],
   "source": [
    "plt.plot([0, 1], [0, 1], 'k--')\n",
    "plt.plot(tpr,fpr)\n",
    "plt.xlabel('False Positive Rate')\n",
    "plt.ylabel('True Positive Rate')\n",
    "plt.title('ROC Curve')"
   ]
  },
  {
   "cell_type": "markdown",
   "metadata": {},
   "source": [
    "Count the AUC score:"
   ]
  },
  {
   "cell_type": "code",
   "execution_count": 16,
   "metadata": {},
   "outputs": [
    {
     "data": {
      "text/plain": [
       "0.7942360860680371"
      ]
     },
     "execution_count": 16,
     "metadata": {},
     "output_type": "execute_result"
    }
   ],
   "source": [
    "roc_auc_score(y_test,logreg.predict_proba(X_test)[:,1])"
   ]
  },
  {
   "cell_type": "markdown",
   "metadata": {},
   "source": [
    "The ROC curve of the model is a two-segment line. It's above the *tpr=fpr* line, and there is still some distance from the top left corner, so the model is useful in prediction, and the effect is acceptable.\n",
    "\n",
    "The auc score is about 0.79, which means the same as above."
   ]
  },
  {
   "cell_type": "markdown",
   "metadata": {},
   "source": [
    "## Question 3"
   ]
  },
  {
   "cell_type": "markdown",
   "metadata": {},
   "source": [
    "**Count the net profit on validation data:**"
   ]
  },
  {
   "cell_type": "code",
   "execution_count": 17,
   "metadata": {},
   "outputs": [
    {
     "name": "stdout",
     "output_type": "stream",
     "text": [
      "net profit: -7200\n"
     ]
    }
   ],
   "source": [
    "print('net profit:',confusion_matrix(y_test,y_pred)[1][1]*100-confusion_matrix(y_test,y_pred)[0][1]*500)"
   ]
  },
  {
   "cell_type": "markdown",
   "metadata": {},
   "source": [
    "The net profit is less than 0, so the model may be not good enough."
   ]
  },
  {
   "cell_type": "markdown",
   "metadata": {},
   "source": [
    "## Question 4"
   ]
  },
  {
   "cell_type": "markdown",
   "metadata": {},
   "source": [
    "**Change original cutoff value:**"
   ]
  },
  {
   "cell_type": "markdown",
   "metadata": {},
   "source": [
    "### Part a"
   ]
  },
  {
   "cell_type": "markdown",
   "metadata": {},
   "source": [
    "First, we need to count the predicted probability, and save the result in *prob*:"
   ]
  },
  {
   "cell_type": "code",
   "execution_count": 18,
   "metadata": {},
   "outputs": [],
   "source": [
    "prob=logreg.predict_proba(X_test)[:,1]"
   ]
  },
  {
   "cell_type": "markdown",
   "metadata": {},
   "source": [
    "If we want to relate the probability to the actual response, we can put them in one dataframe *df1*, and then sort the dataframe by the probability in descending order:"
   ]
  },
  {
   "cell_type": "code",
   "execution_count": 19,
   "metadata": {},
   "outputs": [
    {
     "name": "stderr",
     "output_type": "stream",
     "text": [
      "C:\\datascience\\anaconda\\lib\\site-packages\\ipykernel_launcher.py:2: SettingWithCopyWarning: \n",
      "A value is trying to be set on a copy of a slice from a DataFrame.\n",
      "Try using .loc[row_indexer,col_indexer] = value instead\n",
      "\n",
      "See the caveats in the documentation: http://pandas.pydata.org/pandas-docs/stable/indexing.html#indexing-view-versus-copy\n",
      "  \n"
     ]
    },
    {
     "data": {
      "text/html": [
       "<div>\n",
       "<style scoped>\n",
       "    .dataframe tbody tr th:only-of-type {\n",
       "        vertical-align: middle;\n",
       "    }\n",
       "\n",
       "    .dataframe tbody tr th {\n",
       "        vertical-align: top;\n",
       "    }\n",
       "\n",
       "    .dataframe thead th {\n",
       "        text-align: right;\n",
       "    }\n",
       "</style>\n",
       "<table border=\"1\" class=\"dataframe\">\n",
       "  <thead>\n",
       "    <tr style=\"text-align: right;\">\n",
       "      <th></th>\n",
       "      <th>RESPONSE</th>\n",
       "      <th>Probability</th>\n",
       "    </tr>\n",
       "  </thead>\n",
       "  <tbody>\n",
       "    <tr>\n",
       "      <th>0</th>\n",
       "      <td>1</td>\n",
       "      <td>0.991977</td>\n",
       "    </tr>\n",
       "    <tr>\n",
       "      <th>1</th>\n",
       "      <td>1</td>\n",
       "      <td>0.991387</td>\n",
       "    </tr>\n",
       "    <tr>\n",
       "      <th>2</th>\n",
       "      <td>1</td>\n",
       "      <td>0.988524</td>\n",
       "    </tr>\n",
       "    <tr>\n",
       "      <th>3</th>\n",
       "      <td>1</td>\n",
       "      <td>0.987389</td>\n",
       "    </tr>\n",
       "    <tr>\n",
       "      <th>4</th>\n",
       "      <td>1</td>\n",
       "      <td>0.987274</td>\n",
       "    </tr>\n",
       "  </tbody>\n",
       "</table>\n",
       "</div>"
      ],
      "text/plain": [
       "   RESPONSE  Probability\n",
       "0         1     0.991977\n",
       "1         1     0.991387\n",
       "2         1     0.988524\n",
       "3         1     0.987389\n",
       "4         1     0.987274"
      ]
     },
     "execution_count": 19,
     "metadata": {},
     "output_type": "execute_result"
    }
   ],
   "source": [
    "df1=y_test\n",
    "df1['Probability']=prob\n",
    "df1=df1.sort_values(by=['Probability'],ascending=False).reset_index(drop=True)\n",
    "df1.head()"
   ]
  },
  {
   "cell_type": "markdown",
   "metadata": {},
   "source": [
    "### Part b"
   ]
  },
  {
   "cell_type": "markdown",
   "metadata": {},
   "source": [
    "We count the gain/cost of each case, and save the result in *gain* column:"
   ]
  },
  {
   "cell_type": "code",
   "execution_count": 20,
   "metadata": {},
   "outputs": [],
   "source": [
    "df1['gain']=df1['RESPONSE'].apply(lambda x: 100 if x==1 else -500)"
   ]
  },
  {
   "cell_type": "markdown",
   "metadata": {},
   "source": [
    "### Part c"
   ]
  },
  {
   "cell_type": "markdown",
   "metadata": {},
   "source": [
    "We count the cumulative net profit, and save the result in *cumulative profit* column:"
   ]
  },
  {
   "cell_type": "code",
   "execution_count": 21,
   "metadata": {},
   "outputs": [],
   "source": [
    "df1['cumulative profit']=df1['gain'].cumsum()"
   ]
  },
  {
   "cell_type": "markdown",
   "metadata": {},
   "source": [
    "### Part d"
   ]
  },
  {
   "cell_type": "markdown",
   "metadata": {},
   "source": [
    "Then, we can find the maximum cumulative net profit:"
   ]
  },
  {
   "cell_type": "code",
   "execution_count": 22,
   "metadata": {},
   "outputs": [
    {
     "data": {
      "text/html": [
       "<div>\n",
       "<style scoped>\n",
       "    .dataframe tbody tr th:only-of-type {\n",
       "        vertical-align: middle;\n",
       "    }\n",
       "\n",
       "    .dataframe tbody tr th {\n",
       "        vertical-align: top;\n",
       "    }\n",
       "\n",
       "    .dataframe thead th {\n",
       "        text-align: right;\n",
       "    }\n",
       "</style>\n",
       "<table border=\"1\" class=\"dataframe\">\n",
       "  <thead>\n",
       "    <tr style=\"text-align: right;\">\n",
       "      <th></th>\n",
       "      <th>RESPONSE</th>\n",
       "      <th>Probability</th>\n",
       "      <th>gain</th>\n",
       "      <th>cumulative profit</th>\n",
       "    </tr>\n",
       "  </thead>\n",
       "  <tbody>\n",
       "    <tr>\n",
       "      <th>172</th>\n",
       "      <td>1</td>\n",
       "      <td>0.826912</td>\n",
       "      <td>100</td>\n",
       "      <td>8300</td>\n",
       "    </tr>\n",
       "  </tbody>\n",
       "</table>\n",
       "</div>"
      ],
      "text/plain": [
       "     RESPONSE  Probability  gain  cumulative profit\n",
       "172         1     0.826912   100               8300"
      ]
     },
     "execution_count": 22,
     "metadata": {},
     "output_type": "execute_result"
    }
   ],
   "source": [
    "df1[df1['cumulative profit']==df1['cumulative profit'].max()]"
   ]
  },
  {
   "cell_type": "markdown",
   "metadata": {},
   "source": [
    "The maximum cumulative profit in this validation data is 8300, and it is at about 43.3% (173/400) of the data. The predicted probability of the data is 0.826912."
   ]
  },
  {
   "cell_type": "markdown",
   "metadata": {},
   "source": [
    "### Part e"
   ]
  },
  {
   "cell_type": "markdown",
   "metadata": {},
   "source": [
    "**If this logistic regression model is scored to future applicants, we can use cross validation to get the optimal cutoff value.**"
   ]
  },
  {
   "cell_type": "markdown",
   "metadata": {},
   "source": [
    "First, define functions that are useful:"
   ]
  },
  {
   "cell_type": "markdown",
   "metadata": {},
   "source": [
    "* The predict function using cutoff value:"
   ]
  },
  {
   "cell_type": "code",
   "execution_count": 23,
   "metadata": {},
   "outputs": [],
   "source": [
    "def cutoff_predict(classfier, X, cutoff):\n",
    "    pred=[1 if i>cutoff else 0 for i in classfier.predict_proba(X)[:,1]]\n",
    "    return pred"
   ]
  },
  {
   "cell_type": "markdown",
   "metadata": {},
   "source": [
    "* The net profit calculation function:"
   ]
  },
  {
   "cell_type": "code",
   "execution_count": 24,
   "metadata": {},
   "outputs": [],
   "source": [
    "def net_profit(y_test,y_pred):\n",
    "    return confusion_matrix(y_test,y_pred)[1][1]*100-confusion_matrix(y_test,y_pred)[0][1]*500"
   ]
  },
  {
   "cell_type": "markdown",
   "metadata": {},
   "source": [
    "* The function used as scoring parameter in cross validation:"
   ]
  },
  {
   "cell_type": "code",
   "execution_count": 25,
   "metadata": {},
   "outputs": [],
   "source": [
    "def custom_score(cutoff):\n",
    "    def net_profit_cutoff(clf, X, y):\n",
    "        y_pred = cutoff_predict(clf, X, cutoff)\n",
    "        return net_profit(y, y_pred)\n",
    "    return net_profit_cutoff"
   ]
  },
  {
   "cell_type": "markdown",
   "metadata": {},
   "source": [
    "Then, we make cross validation, and calculate the cv scores for different cutoff value:"
   ]
  },
  {
   "cell_type": "code",
   "execution_count": 26,
   "metadata": {},
   "outputs": [],
   "source": [
    "X=df.drop(['OBS#','RESPONSE'],axis=1)\n",
    "y=df['RESPONSE']\n",
    "logreg=LogisticRegression(solver='liblinear')\n",
    "scores=[cross_val_score(logreg,X,y,scoring=custom_score(c),cv=10) for c in np.arange(0.5,1,0.01)]"
   ]
  },
  {
   "cell_type": "markdown",
   "metadata": {},
   "source": [
    "Draw the boxplot of the cv scores of different cutoff values:"
   ]
  },
  {
   "cell_type": "code",
   "execution_count": 27,
   "metadata": {},
   "outputs": [
    {
     "data": {
      "text/plain": [
       "(array([ 0,  1,  2,  3,  4,  5,  6,  7,  8,  9, 10, 11, 12, 13, 14, 15, 16,\n",
       "        17, 18, 19, 20, 21, 22, 23, 24, 25, 26, 27, 28, 29, 30, 31, 32, 33,\n",
       "        34, 35, 36, 37, 38, 39, 40, 41, 42, 43, 44, 45, 46, 47, 48, 49]),\n",
       " <a list of 50 Text xticklabel objects>)"
      ]
     },
     "execution_count": 27,
     "metadata": {},
     "output_type": "execute_result"
    },
    {
     "data": {
      "image/png": "[encoded data removed]",
      "text/plain": [
       "<Figure size 720x288 with 1 Axes>"
      ]
     },
     "metadata": {
      "needs_background": "light"
     },
     "output_type": "display_data"
    }
   ],
   "source": [
    "plt.figure(figsize=(10,4))\n",
    "sns.boxplot(x=np.arange(0.5,1,0.01).round(2),y=scores)\n",
    "plt.xlabel('cutoff value')\n",
    "plt.ylabel('cross-validation score')\n",
    "plt.xticks(rotation=90)"
   ]
  },
  {
   "cell_type": "markdown",
   "metadata": {},
   "source": [
    "From the plot, we can use the box of cv scores to get the optimal cutoff value.\n",
    "\n",
    "If we want to have more net profit, we focus more on the median value and the box part, and the optimal cutoff value can be from 0.75 to 0.84."
   ]
  }
 ],
 "metadata": {
  "kernelspec": {
   "display_name": "Python 3",
   "language": "python",
   "name": "python3"
  },
  "language_info": {
   "codemirror_mode": {
    "name": "ipython",
    "version": 3
   },
   "file_extension": ".py",
   "mimetype": "text/x-python",
   "name": "python",
   "nbconvert_exporter": "python",
   "pygments_lexer": "ipython3",
   "version": "3.7.1"
  }
 },
 "nbformat": 4,
 "nbformat_minor": 2
}
